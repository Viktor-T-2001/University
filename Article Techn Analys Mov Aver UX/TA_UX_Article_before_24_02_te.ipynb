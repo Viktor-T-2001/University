{
 "cells": [
  {
   "cell_type": "code",
   "execution_count": 13,
   "metadata": {
    "id": "-2n_3H3jV3Kg"
   },
   "outputs": [],
   "source": [
    "import pandas as pd\n",
    "import missingno as msno\n",
    "import matplotlib.pyplot as plt\n",
    "import missingno as msno\n",
    "import numpy as np"
   ]
  },
  {
   "cell_type": "code",
   "execution_count": 14,
   "metadata": {
    "colab": {
     "base_uri": "https://localhost:8080/",
     "height": 237
    },
    "id": "3MtY9xyGWR7q",
    "outputId": "9fe0342b-42ae-4458-92b2-a16a17ecdaee"
   },
   "outputs": [
    {
     "data": {
      "text/html": [
       "<div>\n",
       "<style scoped>\n",
       "    .dataframe tbody tr th:only-of-type {\n",
       "        vertical-align: middle;\n",
       "    }\n",
       "\n",
       "    .dataframe tbody tr th {\n",
       "        vertical-align: top;\n",
       "    }\n",
       "\n",
       "    .dataframe thead th {\n",
       "        text-align: right;\n",
       "    }\n",
       "</style>\n",
       "<table border=\"1\" class=\"dataframe\">\n",
       "  <thead>\n",
       "    <tr style=\"text-align: right;\">\n",
       "      <th></th>\n",
       "      <th>Date</th>\n",
       "      <th>Open</th>\n",
       "      <th>High</th>\n",
       "      <th>Low</th>\n",
       "      <th>Close</th>\n",
       "      <th>Volume</th>\n",
       "    </tr>\n",
       "    <tr>\n",
       "      <th>Date</th>\n",
       "      <th></th>\n",
       "      <th></th>\n",
       "      <th></th>\n",
       "      <th></th>\n",
       "      <th></th>\n",
       "      <th></th>\n",
       "    </tr>\n",
       "  </thead>\n",
       "  <tbody>\n",
       "    <tr>\n",
       "      <th>2024-07-05</th>\n",
       "      <td>2024-07-05</td>\n",
       "      <td>1194.15</td>\n",
       "      <td>1194.15</td>\n",
       "      <td>1194.15</td>\n",
       "      <td>1194.15</td>\n",
       "      <td>NaN</td>\n",
       "    </tr>\n",
       "    <tr>\n",
       "      <th>2024-07-04</th>\n",
       "      <td>2024-07-04</td>\n",
       "      <td>1194.15</td>\n",
       "      <td>1194.15</td>\n",
       "      <td>1194.15</td>\n",
       "      <td>1194.15</td>\n",
       "      <td>NaN</td>\n",
       "    </tr>\n",
       "    <tr>\n",
       "      <th>2024-07-03</th>\n",
       "      <td>2024-07-03</td>\n",
       "      <td>1194.15</td>\n",
       "      <td>1194.15</td>\n",
       "      <td>1194.15</td>\n",
       "      <td>1194.15</td>\n",
       "      <td>NaN</td>\n",
       "    </tr>\n",
       "    <tr>\n",
       "      <th>2024-07-02</th>\n",
       "      <td>2024-07-02</td>\n",
       "      <td>1194.15</td>\n",
       "      <td>1194.15</td>\n",
       "      <td>1194.15</td>\n",
       "      <td>1194.15</td>\n",
       "      <td>NaN</td>\n",
       "    </tr>\n",
       "    <tr>\n",
       "      <th>2024-07-01</th>\n",
       "      <td>2024-07-01</td>\n",
       "      <td>1194.15</td>\n",
       "      <td>1194.15</td>\n",
       "      <td>1194.15</td>\n",
       "      <td>1194.15</td>\n",
       "      <td>6240.0</td>\n",
       "    </tr>\n",
       "  </tbody>\n",
       "</table>\n",
       "</div>"
      ],
      "text/plain": [
       "                 Date     Open     High      Low    Close  Volume\n",
       "Date                                                             \n",
       "2024-07-05 2024-07-05  1194.15  1194.15  1194.15  1194.15     NaN\n",
       "2024-07-04 2024-07-04  1194.15  1194.15  1194.15  1194.15     NaN\n",
       "2024-07-03 2024-07-03  1194.15  1194.15  1194.15  1194.15     NaN\n",
       "2024-07-02 2024-07-02  1194.15  1194.15  1194.15  1194.15     NaN\n",
       "2024-07-01 2024-07-01  1194.15  1194.15  1194.15  1194.15  6240.0"
      ]
     },
     "execution_count": 14,
     "metadata": {},
     "output_type": "execute_result"
    }
   ],
   "source": [
    "columns = ['Date', 'Open', 'High', 'Low', 'Close', 'Volume']\n",
    "df = pd.read_excel('Вхідні дані.xlsx', header = None, skiprows = 1, names = columns)\n",
    "df.index = df[\"Date\"]\n",
    "df.index = pd.to_datetime(df.index)\n",
    "df.head()"
   ]
  },
  {
   "cell_type": "markdown",
   "metadata": {
    "id": "qw50slXUhQCc"
   },
   "source": [
    "### **Історичні значення індексу UX (з 20-02-2020 по 23-02-2022)**"
   ]
  },
  {
   "cell_type": "code",
   "execution_count": 15,
   "metadata": {
    "colab": {
     "base_uri": "https://localhost:8080/",
     "height": 662
    },
    "id": "cQ8VmTm8WpiU",
    "outputId": "51be1ac6-ece0-4a04-ad2e-1721d968b22d"
   },
   "outputs": [
    {
     "data": {
      "text/plain": [
       "[<matplotlib.lines.Line2D at 0x1e6231a7ac8>]"
      ]
     },
     "execution_count": 15,
     "metadata": {},
     "output_type": "execute_result"
    },
    {
     "data": {
      "image/png": "[encoded data removed]",
      "text/plain": [
       "<Figure size 1440x720 with 1 Axes>"
      ]
     },
     "metadata": {
      "needs_background": "light"
     },
     "output_type": "display_data"
    }
   ],
   "source": [
    "start_date = pd.to_datetime('2020-2-20')\n",
    "end_date = pd.to_datetime('2022-2-23')\n",
    "plt.rcParams.update({'font.size': 13})\n",
    "df1 = df.loc[(df['Date']>=start_date) & (df['Date']<=end_date)]\n",
    "stock_data = df1.set_index('Date')\n",
    "plt.figure(figsize=(20,10))\n",
    "ax = plt.axes()\n",
    "ax.spines[\"right\"].set_visible(False)\n",
    "ax.spines[\"top\"].set_visible(False)\n",
    "plt.xlabel('\\nДата')\n",
    "plt.ylabel('\\nЗначення індексу')\n",
    "plt.plot(stock_data.index, stock_data[\"Close\"], color='navy', linewidth=1.5)"
   ]
  },
  {
   "cell_type": "markdown",
   "metadata": {
    "id": "unnC-M2AhX5G"
   },
   "source": [
    "### **Динаміка сумарного обєму торгів за день**"
   ]
  },
  {
   "cell_type": "code",
   "execution_count": 16,
   "metadata": {
    "colab": {
     "base_uri": "https://localhost:8080/",
     "height": 377
    },
    "id": "135UO7YcZEnv",
    "outputId": "c2251c03-f24e-4a7e-cbd3-c38ee98352cd"
   },
   "outputs": [
    {
     "data": {
      "text/plain": [
       "Text(0, 0.5, \"\\nОб'єм торгів\")"
      ]
     },
     "execution_count": 16,
     "metadata": {},
     "output_type": "execute_result"
    },
    {
     "data": {
      "image/png": "[encoded data removed]",
      "text/plain": [
       "<Figure size 1440x360 with 1 Axes>"
      ]
     },
     "metadata": {
      "needs_background": "light"
     },
     "output_type": "display_data"
    }
   ],
   "source": [
    "plt.rcParams.update({'font.size': 13})\n",
    "plt.figure(figsize=(20,5))\n",
    "plt.bar(stock_data.index, stock_data['Volume'],color='black',width=1.5)\n",
    "plt.xlabel('\\nДата')\n",
    "plt.ylabel('\\nОб\\'єм торгів')"
   ]
  },
  {
   "cell_type": "markdown",
   "metadata": {
    "id": "2sxajZj1hfp4"
   },
   "source": [
    "### **Пропущені значення**"
   ]
  },
  {
   "cell_type": "code",
   "execution_count": 17,
   "metadata": {
    "colab": {
     "base_uri": "https://localhost:8080/",
     "height": 582
    },
    "id": "Uz3tih0wfkAM",
    "outputId": "9868263d-2dd3-4bb1-80cd-b4e91bab38f3"
   },
   "outputs": [
    {
     "data": {
      "text/plain": [
       "<AxesSubplot:>"
      ]
     },
     "execution_count": 17,
     "metadata": {},
     "output_type": "execute_result"
    },
    {
     "data": {
      "image/png": "[encoded data removed]",
      "text/plain": [
       "<Figure size 1800x720 with 3 Axes>"
      ]
     },
     "metadata": {
      "needs_background": "light"
     },
     "output_type": "display_data"
    }
   ],
   "source": [
    "msno.bar(stock_data, color = (138/225,43/225,225/225))"
   ]
  },
  {
   "cell_type": "markdown",
   "metadata": {
    "id": "nkWyw2g1hGns"
   },
   "source": [
    "### **SMA**"
   ]
  },
  {
   "cell_type": "code",
   "execution_count": 18,
   "metadata": {
    "id": "jgPKBExDfrP2"
   },
   "outputs": [],
   "source": [
    "def SMA(data,n):\n",
    "\n",
    "  #додаємо NaN на початку\n",
    "\tsma_list=[np.nan for k in range(n-1)]\n",
    "\n",
    "\tfor i in range(len(data)-n+1):\n",
    "\t\tsum_n = 0\n",
    "\t\tfor j in range(n):\n",
    "\t\t\tsum_n = sum_n + data[i+j]\n",
    "\t\tsma=sum_n/n\n",
    "\t\tsma_list.append(round(sma, 2))\n",
    "\n",
    "\treturn sma_list"
   ]
  },
  {
   "cell_type": "markdown",
   "metadata": {
    "id": "u8o7VQokh1Dj"
   },
   "source": [
    "### **LWMA**"
   ]
  },
  {
   "cell_type": "code",
   "execution_count": 19,
   "metadata": {
    "id": "BbmyjvHlhMPj"
   },
   "outputs": [],
   "source": [
    "def LWMA(data,n):\n",
    "\n",
    "\tlma_list=[np.nan for k in range(n-1)]\n",
    "\n",
    "\tfor i in range(len(data)-n+1):\n",
    "\t\tsum_n, sum_j = 0, 0\n",
    "\t\tfor j in range(n):\n",
    "\t\t\tsum_n = sum_n + (j+1)*data[i+j]\n",
    "\t\t\tsum_j = sum_j + (j+1)\n",
    "\t\tlma=sum_n/sum_j\n",
    "\t\tlma_list.append(lma)\n",
    "\n",
    "\treturn lma_list"
   ]
  },
  {
   "cell_type": "markdown",
   "metadata": {
    "id": "CTKxOBCChuBO"
   },
   "source": [
    "### **EMA**"
   ]
  },
  {
   "cell_type": "code",
   "execution_count": 20,
   "metadata": {
    "id": "PVUcDyI_htXt"
   },
   "outputs": [],
   "source": [
    "def EMA(data, n, a=0):\n",
    "\tema_list=[data[0]]\n",
    "\tif a==0:\n",
    "\t\ta=2/(n+1)\n",
    "\n",
    "\tfor i in range (1,len(data)):\n",
    "\t\tema = 0\n",
    "\t\tema = (1-a)*ema_list[i-1]+a*data[i]\n",
    "\t\tema_list.append(ema)\n",
    "\n",
    "\treturn ema_list"
   ]
  },
  {
   "cell_type": "markdown",
   "metadata": {
    "id": "apN6eG2wjmyB"
   },
   "source": [
    "### **Торгова стратегія на основі перетину ціни і плинного середнього**"
   ]
  },
  {
   "cell_type": "markdown",
   "metadata": {
    "id": "0ZvOawfbiHBx"
   },
   "source": [
    "Сигнали - перетин ціни і плинного середнього\n",
    "\n",
    "P - list of Close prices\n",
    "\n",
    "n1 - к-ть періодів для середнього\n",
    "\n",
    "MA_type - тип середнього (\"SMA\", \"EMA\", \"LWMA\")"
   ]
  },
  {
   "cell_type": "code",
   "execution_count": 21,
   "metadata": {
    "id": "tfHMAaf_iF8i"
   },
   "outputs": [],
   "source": [
    "def strategy_MA_1(P, n1, MA_type, n2=26, n3=9):\n",
    "  MA= []\n",
    "  if MA_type == \"SMA\":\n",
    "    MA = SMA(P, n1)\n",
    "  elif MA_type == \"EMA\":\n",
    "    MA = EMA(P, n1)\n",
    "  elif MA_type == \"LWMA\":\n",
    "    MA = LWMA(P, n1)\n",
    "\n",
    "  if MA_type != \"EMA\":\n",
    "    s=[np.nan for k in range(n1)]\n",
    "    for i in range(n1, len(MA)):\n",
    "      if (P[i-1]<MA[i-1]) and (P[i]>MA[i]):\n",
    "        s.append(1)\n",
    "      elif (P[i-1]>MA[i-1]) and (P[i]<MA[i]):\n",
    "        s.append(-1)\n",
    "      else:\n",
    "        s.append(0)\n",
    "  elif MA_type == \"EMA\":\n",
    "    s=[np.nan]\n",
    "    for i in range(1,len(MA)):\n",
    "      if (P[i-1]<MA[i-1]) and (P[i]>MA[i]):\n",
    "        s.append(1)\n",
    "      elif (P[i-1]>MA[i-1]) and (P[i]<MA[i]):\n",
    "        s.append(-1)\n",
    "      else:\n",
    "        s.append(0)\n",
    "  return s"
   ]
  },
  {
   "cell_type": "markdown",
   "metadata": {
    "id": "rzk4yk_wjS4z"
   },
   "source": [
    "### **Конвертація торгових сигналів**"
   ]
  },
  {
   "cell_type": "code",
   "execution_count": 22,
   "metadata": {
    "id": "3O_u31TKjRRH"
   },
   "outputs": [],
   "source": [
    "def signal_convertation(signals):\n",
    "    non_zero_element = 0\n",
    "    converted_signals = []\n",
    "    #елементи на початку ряду можуть бути нулями, ми їх не змінюємо до появи першого сигналу\n",
    "\n",
    "    for i in range(len(signals)):\n",
    "        if np.isnan(signals[i]):\n",
    "            converted_signals.append(np.nan)\n",
    "        else:\n",
    "            if signals[i] != 0:\n",
    "                non_zero_element = signals[i]\n",
    "                converted_signals.append(signals[i])\n",
    "            else:\n",
    "                converted_signals.append(non_zero_element)\n",
    "\n",
    "    return converted_signals"
   ]
  },
  {
   "cell_type": "markdown",
   "metadata": {
    "id": "wepFZxacjevE"
   },
   "source": [
    "### **Розрахунок результату торгової стратегії**"
   ]
  },
  {
   "cell_type": "code",
   "execution_count": 23,
   "metadata": {
    "id": "zTfz3ftujbgR"
   },
   "outputs": [],
   "source": [
    "def trading_results(price, signal):\n",
    "    results=[\"n/a\" for i in range(len(price))]\n",
    "    open_short, close_short, open_long, close_long = 0, 0, 0, 0\n",
    "\n",
    "\n",
    "    for i in range(1,len(signal)):\n",
    "\n",
    "        if signal[i] == 0 and signal[i-1] == 1:\n",
    "            open_short = i\n",
    "            close_long = i\n",
    "            #рахуємо прибутковість довгої позиції\n",
    "            result = (price[close_long] - price[open_long])/price[open_long]\n",
    "            #result = (price[close_long] - price[open_long])/price[open_long] - 0.4/100\n",
    "            results[i] = result\n",
    "\n",
    "        if signal[i] == 1 and signal[i-1] == 0:\n",
    "            close_short = i\n",
    "            open_long = i\n",
    "            #рахуємо прибутковість короткої позиції\n",
    "            result = -(price[close_short] - price[open_short])/price[open_short]\n",
    "            #result = -(price[close_short] - price[open_short])/price[open_short] - 0.4/100\n",
    "            results[i] = result\n",
    "\n",
    "    return(results)"
   ]
  },
  {
   "cell_type": "code",
   "execution_count": 25,
   "metadata": {
    "id": "AvE8MaoTLL7Q"
   },
   "outputs": [
    {
     "name": "stdout",
     "output_type": "stream",
     "text": [
      "Значення параметра: SMA 2; результат: 12.11886675119459\n",
      "Значення параметра: SMA 3; результат: 20.82604796386187\n",
      "Значення параметра: SMA 4; результат: 13.19555165475216\n",
      "Значення параметра: SMA 5; результат: 14.534688258366232\n",
      "Значення параметра: SMA 6; результат: 19.359825201924597\n",
      "Значення параметра: SMA 7; результат: 19.65521878763818\n",
      "Значення параметра: SMA 8; результат: 21.280023396497107\n",
      "Значення параметра: SMA 9; результат: 20.58999718900486\n",
      "Значення параметра: SMA 10; результат: 17.313932594101946\n",
      "Значення параметра: SMA 11; результат: 16.0995486204006\n",
      "Значення параметра: SMA 12; результат: 14.300923818298998\n",
      "Значення параметра: SMA 13; результат: 13.521534014083922\n",
      "Значення параметра: SMA 14; результат: 15.15699505109994\n",
      "Значення параметра: SMA 15; результат: 19.111504142923323\n",
      "Значення параметра: SMA 16; результат: 25.373999790128618\n",
      "Значення параметра: SMA 17; результат: 26.416725361041756\n",
      "Значення параметра: SMA 18; результат: 27.306741171641544\n",
      "Значення параметра: SMA 19; результат: 29.68865575335764\n",
      "Значення параметра: SMA 20; результат: 32.97701273577164\n",
      "Значення параметра: SMA 21; результат: 25.444594632204556\n",
      "Значення параметра: SMA 22; результат: 24.240995646404798\n",
      "Значення параметра: SMA 23; результат: 22.012434424779773\n",
      "Значення параметра: SMA 24; результат: 22.493527118254708\n",
      "Значення параметра: SMA 25; результат: 24.418103523216658\n",
      "Значення параметра: SMA 26; результат: 23.90382259414074\n",
      "Значення параметра: SMA 27; результат: 22.521291630255558\n",
      "Значення параметра: SMA 28; результат: 20.326870261818343\n",
      "Значення параметра: SMA 29; результат: 20.091863828814002\n",
      "Значення параметра: SMA 30; результат: 22.499824892186478\n",
      "Значення параметра: SMA 31; результат: 21.431822784445092\n",
      "Значення параметра: SMA 32; результат: 23.75384498715144\n",
      "Значення параметра: SMA 33; результат: 23.546498673462384\n",
      "Значення параметра: SMA 34; результат: 24.438920936050287\n",
      "Значення параметра: SMA 35; результат: 27.455949899886196\n",
      "Значення параметра: SMA 36; результат: 25.682675895768025\n",
      "Значення параметра: SMA 37; результат: 25.04220731714253\n",
      "Значення параметра: SMA 38; результат: 25.2027130199273\n",
      "Значення параметра: SMA 39; результат: 24.07302652805998\n",
      "Значення параметра: SMA 40; результат: 29.645674804658547\n",
      "Значення параметра: SMA 41; результат: 29.45930204174329\n",
      "Значення параметра: SMA 42; результат: 27.823875419490662\n",
      "Значення параметра: SMA 43; результат: 30.102047158249224\n",
      "Значення параметра: SMA 44; результат: 29.274999067010004\n",
      "Значення параметра: SMA 45; результат: 30.376561285287032\n",
      "Значення параметра: SMA 46; результат: 32.03342935372647\n",
      "Значення параметра: SMA 47; результат: 38.077442586378545\n",
      "Значення параметра: SMA 48; результат: 39.063004234419864\n",
      "Значення параметра: SMA 49; результат: 39.063004234419864\n",
      "Значення параметра: SMA 50; результат: 44.150080418922364\n",
      "Значення параметра: SMA 51; результат: 42.901627919814175\n",
      "Значення параметра: SMA 52; результат: 42.47479704339151\n",
      "Значення параметра: SMA 53; результат: 45.18853325793976\n",
      "Значення параметра: SMA 54; результат: 46.59047868479993\n",
      "Значення параметра: SMA 55; результат: 43.637586847726276\n",
      "Значення параметра: SMA 56; результат: 44.75642072236483\n",
      "Значення параметра: SMA 57; результат: 45.74986896755874\n",
      "Значення параметра: SMA 58; результат: 49.200933363926694\n",
      "Значення параметра: SMA 59; результат: 49.200933363926694\n",
      "Значення параметра: SMA 60; результат: 42.90707435980465\n",
      "Значення параметра: SMA 61; результат: 46.603555421143305\n",
      "Значення параметра: SMA 62; результат: 46.7302388859984\n",
      "Значення параметра: SMA 63; результат: 46.7302388859984\n",
      "Значення параметра: SMA 64; результат: 44.7890484777019\n",
      "Значення параметра: SMA 65; результат: 46.515528293399704\n",
      "Значення параметра: SMA 66; результат: 45.87995516908054\n",
      "Значення параметра: SMA 67; результат: 47.22671163616967\n",
      "Значення параметра: SMA 68; результат: 54.42197513607946\n",
      "Значення параметра: SMA 69; результат: 53.45245159946867\n",
      "Значення параметра: SMA 70; результат: 54.70559626789989\n",
      "Значення параметра: SMA 71; результат: 60.260753325159165\n",
      "Значення параметра: SMA 72; результат: 60.54220498310378\n",
      "Значення параметра: SMA 73; результат: 75.91867535202182\n",
      "Значення параметра: SMA 74; результат: 75.91867535202182\n",
      "Значення параметра: SMA 75; результат: 72.16878537637282\n",
      "Значення параметра: SMA 76; результат: 72.4293905333998\n",
      "Значення параметра: SMA 77; результат: 73.71759525083564\n",
      "Значення параметра: SMA 78; результат: 72.03607529009504\n",
      "Значення параметра: SMA 79; результат: 72.03607529009504\n",
      "Значення параметра: SMA 80; результат: 72.03607529009504\n",
      "Значення параметра: SMA 81; результат: 71.24616691693248\n",
      "Значення параметра: SMA 82; результат: 73.20162586255829\n",
      "Значення параметра: SMA 83; результат: 73.20162586255829\n",
      "Значення параметра: SMA 84; результат: 73.20162586255829\n",
      "Значення параметра: SMA 85; результат: 73.20162586255829\n",
      "Значення параметра: SMA 86; результат: 73.20162586255829\n",
      "Значення параметра: SMA 87; результат: 73.20162586255829\n",
      "Значення параметра: SMA 88; результат: 73.06452744049562\n",
      "Значення параметра: SMA 89; результат: 73.06452744049562\n",
      "Значення параметра: SMA 90; результат: 73.06452744049562\n",
      "Значення параметра: SMA 91; результат: 68.77558299526717\n",
      "Значення параметра: SMA 92; результат: 69.12257574058567\n",
      "Значення параметра: SMA 93; результат: 69.12257574058567\n",
      "Значення параметра: SMA 94; результат: 69.12257574058567\n",
      "Значення параметра: SMA 95; результат: 66.12461409700502\n",
      "Значення параметра: SMA 96; результат: 66.12461409700502\n",
      "Значення параметра: SMA 97; результат: 66.12461409700502\n",
      "Значення параметра: SMA 98; результат: 73.77214810088778\n",
      "Значення параметра: SMA 99; результат: 72.97477191449848\n",
      "Значення параметра: SMA 100; результат: 73.01779690382949\n",
      "Значення параметра: EMA 2; результат: 11.2021736659942\n",
      "Значення параметра: EMA 3; результат: 13.193194088233591\n",
      "Значення параметра: EMA 4; результат: 14.341428448104832\n",
      "Значення параметра: EMA 5; результат: 14.9072220744163\n",
      "Значення параметра: EMA 6; результат: 19.942364235445417\n",
      "Значення параметра: EMA 7; результат: 17.11526242139208\n",
      "Значення параметра: EMA 8; результат: 14.206768422152992\n",
      "Значення параметра: EMA 9; результат: 19.14362130922655\n",
      "Значення параметра: EMA 10; результат: 18.51290065217282\n",
      "Значення параметра: EMA 11; результат: 19.594259888163467\n",
      "Значення параметра: EMA 12; результат: 18.73947960140266\n",
      "Значення параметра: EMA 13; результат: 17.9108178617045\n",
      "Значення параметра: EMA 14; результат: 17.625607721933996\n",
      "Значення параметра: EMA 15; результат: 18.182189084451792\n",
      "Значення параметра: EMA 16; результат: 20.301045655335965\n",
      "Значення параметра: EMA 17; результат: 23.857117103987743\n",
      "Значення параметра: EMA 18; результат: 23.931864215526424\n",
      "Значення параметра: EMA 19; результат: 21.976647994559325\n",
      "Значення параметра: EMA 20; результат: 21.40231523549483\n",
      "Значення параметра: EMA 21; результат: 19.881555288449576\n",
      "Значення параметра: EMA 22; результат: 18.78430516768314\n",
      "Значення параметра: EMA 23; результат: 20.899227859788905\n",
      "Значення параметра: EMA 24; результат: 20.972028437139297\n",
      "Значення параметра: EMA 25; результат: 24.643435902734325\n",
      "Значення параметра: EMA 26; результат: 24.347477363812907\n",
      "Значення параметра: EMA 27; результат: 24.545266852584977\n",
      "Значення параметра: EMA 28; результат: 25.786186429245472\n",
      "Значення параметра: EMA 29; результат: 25.366417965092676\n",
      "Значення параметра: EMA 30; результат: 26.472064460452625\n",
      "Значення параметра: EMA 31; результат: 26.64873566611358\n",
      "Значення параметра: EMA 32; результат: 26.16834857757833\n",
      "Значення параметра: EMA 33; результат: 26.16834857757833\n",
      "Значення параметра: EMA 34; результат: 25.827251832558318\n",
      "Значення параметра: EMA 35; результат: 26.882134305534752\n",
      "Значення параметра: EMA 36; результат: 26.882134305534752\n",
      "Значення параметра: EMA 37; результат: 27.12021838371534\n",
      "Значення параметра: EMA 38; результат: 28.76419743628286\n",
      "Значення параметра: EMA 39; результат: 26.32574648752481\n",
      "Значення параметра: EMA 40; результат: 28.600012393284842\n",
      "Значення параметра: EMA 41; результат: 28.600012393284842\n",
      "Значення параметра: EMA 42; результат: 30.72154069120934\n",
      "Значення параметра: EMA 43; результат: 34.331167279908556\n",
      "Значення параметра: EMA 44; результат: 34.88218776492635\n",
      "Значення параметра: EMA 45; результат: 36.152196577369224\n",
      "Значення параметра: EMA 46; результат: 37.357528345563864\n",
      "Значення параметра: EMA 47; результат: 36.629779392743856\n",
      "Значення параметра: EMA 48; результат: 48.03409938714124\n",
      "Значення параметра: EMA 49; результат: 49.879264752796225\n",
      "Значення параметра: EMA 50; результат: 53.04542434523345\n",
      "Значення параметра: EMA 51; результат: 50.751977290460395\n",
      "Значення параметра: EMA 52; результат: 55.531425274731774\n",
      "Значення параметра: EMA 53; результат: 58.65378006982107\n",
      "Значення параметра: EMA 54; результат: 61.56704221297214\n",
      "Значення параметра: EMA 55; результат: 64.18709042153114\n",
      "Значення параметра: EMA 56; результат: 64.12545232158175\n",
      "Значення параметра: EMA 57; результат: 58.52438010683546\n",
      "Значення параметра: EMA 58; результат: 65.79232845889972\n",
      "Значення параметра: EMA 59; результат: 67.34459395964008\n",
      "Значення параметра: EMA 60; результат: 67.34459395964008\n",
      "Значення параметра: EMA 61; результат: 67.34459395964008\n",
      "Значення параметра: EMA 62; результат: 69.01184077619595\n",
      "Значення параметра: EMA 63; результат: 69.01184077619595\n",
      "Значення параметра: EMA 64; результат: 65.97388173797681\n",
      "Значення параметра: EMA 65; результат: 64.46899815282354\n",
      "Значення параметра: EMA 66; результат: 64.46899815282354\n",
      "Значення параметра: EMA 67; результат: 65.96085220588559\n",
      "Значення параметра: EMA 68; результат: 70.06272867982655\n",
      "Значення параметра: EMA 69; результат: 70.06272867982655\n",
      "Значення параметра: EMA 70; результат: 70.06272867982655\n",
      "Значення параметра: EMA 71; результат: 68.53395690131526\n",
      "Значення параметра: EMA 72; результат: 69.66996810454268\n",
      "Значення параметра: EMA 73; результат: 80.30886379674638\n",
      "Значення параметра: EMA 74; результат: 82.03737018553933\n",
      "Значення параметра: EMA 75; результат: 82.9616459991421\n",
      "Значення параметра: EMA 76; результат: 84.5050063118102\n",
      "Значення параметра: EMA 77; результат: 80.43572498187467\n",
      "Значення параметра: EMA 78; результат: 84.44900212950351\n",
      "Значення параметра: EMA 79; результат: 84.44900212950351\n",
      "Значення параметра: EMA 80; результат: 84.29432132444181\n",
      "Значення параметра: EMA 81; результат: 86.33793093108211\n",
      "Значення параметра: EMA 82; результат: 88.39389817641252\n",
      "Значення параметра: EMA 83; результат: 88.39389817641252\n",
      "Значення параметра: EMA 84; результат: 92.06476310055615\n",
      "Значення параметра: EMA 85; результат: 93.35177763964963\n",
      "Значення параметра: EMA 86; результат: 93.35177763964963\n",
      "Значення параметра: EMA 87; результат: 93.35177763964963\n",
      "Значення параметра: EMA 88; результат: 94.00671065952821\n",
      "Значення параметра: EMA 89; результат: 94.00671065952821\n",
      "Значення параметра: EMA 90; результат: 96.28523025679763\n",
      "Значення параметра: EMA 91; результат: 96.28523025679763\n",
      "Значення параметра: EMA 92; результат: 96.28523025679763\n",
      "Значення параметра: EMA 93; результат: 92.41403244320192\n",
      "Значення параметра: EMA 94; результат: 92.96497563637423\n",
      "Значення параметра: EMA 95; результат: 95.63284392149639\n",
      "Значення параметра: EMA 96; результат: 91.99198399075863\n",
      "Значення параметра: EMA 97; результат: 91.99198399075863\n",
      "Значення параметра: EMA 98; результат: 85.9326032269579\n",
      "Значення параметра: EMA 99; результат: 88.50140022355947\n",
      "Значення параметра: EMA 100; результат: 92.04088852546819\n",
      "Значення параметра: LWMA 2; результат: 10.790102069106618\n",
      "Значення параметра: LWMA 3; результат: 15.179796674098348\n",
      "Значення параметра: LWMA 4; результат: 14.887378387137106\n",
      "Значення параметра: LWMA 5; результат: 13.54975845026602\n",
      "Значення параметра: LWMA 6; результат: 14.052572999931009\n",
      "Значення параметра: LWMA 7; результат: 12.794432723425913\n",
      "Значення параметра: LWMA 8; результат: 17.901970414824035\n",
      "Значення параметра: LWMA 9; результат: 18.74789368298451\n",
      "Значення параметра: LWMA 10; результат: 19.277277201967948\n",
      "Значення параметра: LWMA 11; результат: 20.68334246086449\n",
      "Значення параметра: LWMA 12; результат: 17.593013713585865\n",
      "Значення параметра: LWMA 13; результат: 17.90920744943203\n",
      "Значення параметра: LWMA 14; результат: 16.636022830567093\n",
      "Значення параметра: LWMA 15; результат: 18.765346515620006\n",
      "Значення параметра: LWMA 16; результат: 21.17756833837365\n",
      "Значення параметра: LWMA 17; результат: 18.686507658667807\n",
      "Значення параметра: LWMA 18; результат: 18.335714900995495\n",
      "Значення параметра: LWMA 19; результат: 18.309599089927577\n",
      "Значення параметра: LWMA 20; результат: 17.619181517394168\n",
      "Значення параметра: LWMA 21; результат: 18.015159926597995\n",
      "Значення параметра: LWMA 22; результат: 19.2006228262807\n",
      "Значення параметра: LWMA 23; результат: 24.299359139416428\n",
      "Значення параметра: LWMA 24; результат: 24.60841115490424\n",
      "Значення параметра: LWMA 25; результат: 24.538149826484677\n",
      "Значення параметра: LWMA 26; результат: 26.39780854392216\n",
      "Значення параметра: LWMA 27; результат: 27.978392931140927\n",
      "Значення параметра: LWMA 28; результат: 26.493050769882103\n",
      "Значення параметра: LWMA 29; результат: 25.542897824181242\n",
      "Значення параметра: LWMA 30; результат: 23.505470053657476\n",
      "Значення параметра: LWMA 31; результат: 21.39107311884877\n",
      "Значення параметра: LWMA 32; результат: 21.125121653607497\n",
      "Значення параметра: LWMA 33; результат: 20.08871407524104\n",
      "Значення параметра: LWMA 34; результат: 22.05433773411654\n",
      "Значення параметра: LWMA 35; результат: 20.65903199401462\n",
      "Значення параметра: LWMA 36; результат: 19.850090116823736\n",
      "Значення параметра: LWMA 37; результат: 19.902325744425678\n",
      "Значення параметра: LWMA 38; результат: 20.35538794818741\n",
      "Значення параметра: LWMA 39; результат: 20.82489575996454\n",
      "Значення параметра: LWMA 40; результат: 21.367434953201528\n",
      "Значення параметра: LWMA 41; результат: 23.131832648875555\n",
      "Значення параметра: LWMA 42; результат: 24.23511310203771\n",
      "Значення параметра: LWMA 43; результат: 22.795517891764117\n",
      "Значення параметра: LWMA 44; результат: 22.353365724983387\n",
      "Значення параметра: LWMA 45; результат: 22.353365724983387\n",
      "Значення параметра: LWMA 46; результат: 23.30265258466329\n",
      "Значення параметра: LWMA 47; результат: 26.05577864535771\n",
      "Значення параметра: LWMA 48; результат: 25.5860805778851\n",
      "Значення параметра: LWMA 49; результат: 26.050551084347084\n",
      "Значення параметра: LWMA 50; результат: 26.302739786461697\n",
      "Значення параметра: LWMA 51; результат: 27.81496894975065\n",
      "Значення параметра: LWMA 52; результат: 27.81496894975065\n",
      "Значення параметра: LWMA 53; результат: 27.05075790268023\n",
      "Значення параметра: LWMA 54; результат: 28.50335120647584\n",
      "Значення параметра: LWMA 55; результат: 29.761998047369183\n",
      "Значення параметра: LWMA 56; результат: 29.761998047369183\n",
      "Значення параметра: LWMA 57; результат: 31.48181106012251\n",
      "Значення параметра: LWMA 58; результат: 31.39983175985852\n",
      "Значення параметра: LWMA 59; результат: 32.32577922334406\n",
      "Значення параметра: LWMA 60; результат: 32.32577922334406\n",
      "Значення параметра: LWMA 61; результат: 33.67883214247459\n",
      "Значення параметра: LWMA 62; результат: 33.67883214247459\n",
      "Значення параметра: LWMA 63; результат: 33.67883214247459\n",
      "Значення параметра: LWMA 64; результат: 33.79838335184608\n",
      "Значення параметра: LWMA 65; результат: 35.999103799557304\n",
      "Значення параметра: LWMA 66; результат: 35.999103799557304\n",
      "Значення параметра: LWMA 67; результат: 35.999103799557304\n",
      "Значення параметра: LWMA 68; результат: 35.757059425531345\n",
      "Значення параметра: LWMA 69; результат: 36.14832575463662\n",
      "Значення параметра: LWMA 70; результат: 38.44289382627548\n",
      "Значення параметра: LWMA 71; результат: 38.44289382627548\n",
      "Значення параметра: LWMA 72; результат: 38.75851728632304\n",
      "Значення параметра: LWMA 73; результат: 38.52939904436537\n",
      "Значення параметра: LWMA 74; результат: 38.943573453412874\n",
      "Значення параметра: LWMA 75; результат: 41.87675377174153\n",
      "Значення параметра: LWMA 76; результат: 42.66384374802566\n",
      "Значення параметра: LWMA 77; результат: 41.08096224386425\n",
      "Значення параметра: LWMA 78; результат: 41.08096224386425\n",
      "Значення параметра: LWMA 79; результат: 45.6499946172451\n",
      "Значення параметра: LWMA 80; результат: 45.59758998767659\n",
      "Значення параметра: LWMA 81; результат: 47.534698326338926\n",
      "Значення параметра: LWMA 82; результат: 52.12563566935389\n",
      "Значення параметра: LWMA 83; результат: 53.872736567296904\n",
      "Значення параметра: LWMA 84; результат: 53.872736567296904\n",
      "Значення параметра: LWMA 85; результат: 53.872736567296904\n",
      "Значення параметра: LWMA 86; результат: 53.872736567296904\n",
      "Значення параметра: LWMA 87; результат: 53.872736567296904\n",
      "Значення параметра: LWMA 88; результат: 52.69758574666962\n",
      "Значення параметра: LWMA 89; результат: 56.72663108253147\n",
      "Значення параметра: LWMA 90; результат: 58.662133248451795\n",
      "Значення параметра: LWMA 91; результат: 58.662133248451795\n",
      "Значення параметра: LWMA 92; результат: 66.1378037088305\n",
      "Значення параметра: LWMA 93; результат: 69.45365128858435\n",
      "Значення параметра: LWMA 94; результат: 69.45365128858435\n",
      "Значення параметра: LWMA 95; результат: 73.00136364232685\n",
      "Значення параметра: LWMA 96; результат: 73.00136364232685\n",
      "Значення параметра: LWMA 97; результат: 73.00136364232685\n",
      "Значення параметра: LWMA 98; результат: 71.839874422198\n",
      "Значення параметра: LWMA 99; результат: 71.839874422198\n",
      "Значення параметра: LWMA 100; результат: 71.839874422198\n"
     ]
    }
   ],
   "source": [
    "start_date = pd.to_datetime('2020-2-20')\n",
    "end_date = pd.to_datetime('2022-2-23')\n",
    "for type_ in [\"SMA\", \"EMA\", \"LWMA\"]:\n",
    "    for n_ in range (2,101):\n",
    "        \n",
    "        df1 = df.loc[(df['Date']>=start_date) & (df['Date']<=end_date)]\n",
    "        stock_data = df1.set_index('Date') \n",
    "        stock_data.index = pd.to_datetime(stock_data.index)\n",
    "        stock_data.drop(['Volume','Open','High','Low'], axis='columns', inplace=True)\n",
    "        stock_data = stock_data.sort_index() \n",
    "\n",
    "        stock_data[\"Indicator\"] = strategy_MA_1(P = stock_data.Close, n1 = n_, MA_type = type_)\n",
    "        stock_data[\"PARAM\"] = signal_convertation(stock_data[\"Indicator\"])\n",
    "\n",
    "        stock_data = stock_data.replace(0, np.nan)\n",
    "        stock_data = stock_data.dropna()\n",
    "\n",
    "        signal = []\n",
    "        for i in range(len(stock_data[\"Close\"])):\n",
    "          if stock_data[\"PARAM\"][i] > 0:\n",
    "              signal.append(1)\n",
    "          else:\n",
    "              signal.append(0)\n",
    "\n",
    "        stock_data[\"Signal\"] = signal\n",
    "\n",
    "        results = trading_results(stock_data[\"Close\"], stock_data[\"Signal\"])\n",
    "        stock_data[\"Results\"] = results\n",
    "\n",
    "        for i in range(len(results)):\n",
    "            if results[i] != 'n/a':\n",
    "                results[i] = results[i]*100\n",
    "\n",
    "        amount = []\n",
    "        amount_ = 100\n",
    "        for element in results:\n",
    "            if element != 'n/a':\n",
    "                amount_ = amount_*(1+element/100)-amount_*0.01 # комісійні\n",
    "                amount.append(amount_)\n",
    "            else:\n",
    "                amount.append(element)\n",
    "        amount[0] = 100\n",
    "\n",
    "        for i in range(len(amount)):\n",
    "          if amount[i] != 'n/a':\n",
    "              remember = amount[i]\n",
    "          else:\n",
    "              amount[i] = remember\n",
    "\n",
    "        stock_data[\"Amount\"] = amount\n",
    "\n",
    "        file_name = 'TA_results/UX_calculation_n_'+str(n_)+\"_\"+type_+'.txt'\n",
    "        with open(file_name, 'a') as f:\n",
    "            f.write(stock_data.to_string(header=True, index=True))\n",
    "\n",
    "        print(\"Значення параметра: \"+type_+\" \" + str(n_) +\"; результат: \"+str(amount[len(amount)-1]))"
   ]
  }
 ],
 "metadata": {
  "colab": {
   "provenance": []
  },
  "kernelspec": {
   "display_name": "Python 3",
   "language": "python",
   "name": "python3"
  },
  "language_info": {
   "codemirror_mode": {
    "name": "ipython",
    "version": 3
   },
   "file_extension": ".py",
   "mimetype": "text/x-python",
   "name": "python",
   "nbconvert_exporter": "python",
   "pygments_lexer": "ipython3",
   "version": "3.7.8"
  }
 },
 "nbformat": 4,
 "nbformat_minor": 1
}
