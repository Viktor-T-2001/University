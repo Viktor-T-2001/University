{
 "cells": [
  {
   "cell_type": "code",
   "execution_count": 83,
   "id": "accessory-graphics",
   "metadata": {},
   "outputs": [],
   "source": [
    "import pandas as pd\n",
    "import missingno as msno\n",
    "import matplotlib.pyplot as plt\n",
    "import missingno as msno\n",
    "import numpy as np"
   ]
  },
  {
   "cell_type": "code",
   "execution_count": 84,
   "id": "cultural-sailing",
   "metadata": {},
   "outputs": [
    {
     "data": {
      "text/html": [
       "<div>\n",
       "<style scoped>\n",
       "    .dataframe tbody tr th:only-of-type {\n",
       "        vertical-align: middle;\n",
       "    }\n",
       "\n",
       "    .dataframe tbody tr th {\n",
       "        vertical-align: top;\n",
       "    }\n",
       "\n",
       "    .dataframe thead th {\n",
       "        text-align: right;\n",
       "    }\n",
       "</style>\n",
       "<table border=\"1\" class=\"dataframe\">\n",
       "  <thead>\n",
       "    <tr style=\"text-align: right;\">\n",
       "      <th></th>\n",
       "      <th>Тип</th>\n",
       "      <th>Параметр</th>\n",
       "      <th>Результат</th>\n",
       "    </tr>\n",
       "  </thead>\n",
       "  <tbody>\n",
       "    <tr>\n",
       "      <th>0</th>\n",
       "      <td>SMA</td>\n",
       "      <td>2</td>\n",
       "      <td>29.241252</td>\n",
       "    </tr>\n",
       "    <tr>\n",
       "      <th>1</th>\n",
       "      <td>SMA</td>\n",
       "      <td>3</td>\n",
       "      <td>40.859898</td>\n",
       "    </tr>\n",
       "    <tr>\n",
       "      <th>2</th>\n",
       "      <td>SMA</td>\n",
       "      <td>4</td>\n",
       "      <td>48.389144</td>\n",
       "    </tr>\n",
       "    <tr>\n",
       "      <th>3</th>\n",
       "      <td>SMA</td>\n",
       "      <td>5</td>\n",
       "      <td>60.049602</td>\n",
       "    </tr>\n",
       "    <tr>\n",
       "      <th>4</th>\n",
       "      <td>SMA</td>\n",
       "      <td>6</td>\n",
       "      <td>46.062132</td>\n",
       "    </tr>\n",
       "  </tbody>\n",
       "</table>\n",
       "</div>"
      ],
      "text/plain": [
       "   Тип  Параметр  Результат\n",
       "0  SMA         2  29.241252\n",
       "1  SMA         3  40.859898\n",
       "2  SMA         4  48.389144\n",
       "3  SMA         5  60.049602\n",
       "4  SMA         6  46.062132"
      ]
     },
     "execution_count": 84,
     "metadata": {},
     "output_type": "execute_result"
    }
   ],
   "source": [
    "columns = ['Тип','Параметр','Результат']\n",
    "#df = pd.read_excel('Довоєнні результати.xlsx', header = None, skiprows = 1, names = columns)\n",
    "df = pd.read_excel('Результати після 24_02.xlsx', header = None, skiprows = 1, names = columns)\n",
    "df.head()"
   ]
  },
  {
   "cell_type": "code",
   "execution_count": 85,
   "id": "swiss-point",
   "metadata": {},
   "outputs": [
    {
     "data": {
      "image/png": "[encoded data removed]",
      "text/plain": [
       "<Figure size 1440x360 with 3 Axes>"
      ]
     },
     "metadata": {
      "needs_background": "light"
     },
     "output_type": "display_data"
    },
    {
     "data": {
      "text/plain": [
       "<Figure size 432x288 with 0 Axes>"
      ]
     },
     "metadata": {},
     "output_type": "display_data"
    }
   ],
   "source": [
    "max_value = max(df[\"Результат\"])\n",
    "fig, axs = plt.subplots(1, 3, figsize=(20, 5))\n",
    "plt.rcParams.update({'font.size': 16})\n",
    "\n",
    "plot1 = plt.subplot2grid((1, 6), (0, 0), colspan=2) \n",
    "plot2 = plt.subplot2grid((1, 6), (0, 2), colspan=2) \n",
    "plot3 = plt.subplot2grid((1, 6), (0, 4), colspan=2) \n",
    "    \n",
    "plot1.plot(df[\"Параметр\"].loc[(df['Тип']=='SMA')], df[\"Результат\"].loc[(df['Тип']=='SMA')], color='red', linewidth=1.2, drawstyle=\"steps-post\")\n",
    "plot1.set_ylim(0, max_value*1.05)\n",
    "plot1.set_title('SMA') \n",
    "plot1.set_ylabel('\\nРезультат')\n",
    "\n",
    "plot2.plot(df[\"Параметр\"].loc[(df['Тип']=='EMA')], df[\"Результат\"].loc[(df['Тип']=='EMA')], color='red', linewidth=1.2, drawstyle=\"steps-post\")\n",
    "plot2.set_ylim(0, max_value*1.05)\n",
    "plot2.set_title('EMA')\n",
    "plot2.set_xlabel('\\nЗначення параметра n')\n",
    "\n",
    "plot3.plot(df[\"Параметр\"].loc[(df['Тип']=='LWMA')], df[\"Результат\"].loc[(df['Тип']=='LWMA')], color='red', linewidth=1.2, drawstyle=\"steps-post\")\n",
    "plot3.set_ylim(0, max_value*1.05)\n",
    "plot3.set_title('LWMA')\n",
    "  \n",
    "plt.tight_layout() \n",
    "plt.show() \n",
    "plt.savefig(\"test\")"
   ]
  }
 ],
 "metadata": {
  "kernelspec": {
   "display_name": "Python 3",
   "language": "python",
   "name": "python3"
  },
  "language_info": {
   "codemirror_mode": {
    "name": "ipython",
    "version": 3
   },
   "file_extension": ".py",
   "mimetype": "text/x-python",
   "name": "python",
   "nbconvert_exporter": "python",
   "pygments_lexer": "ipython3",
   "version": "3.7.8"
  }
 },
 "nbformat": 4,
 "nbformat_minor": 5
}
